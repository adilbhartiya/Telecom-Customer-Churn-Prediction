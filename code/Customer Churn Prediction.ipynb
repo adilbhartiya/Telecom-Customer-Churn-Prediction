{
 "cells": [
  {
   "cell_type": "markdown",
   "id": "8308fa8c",
   "metadata": {},
   "source": [
    "## Step:1 Dataset Description and Objective:\n",
    "**Dataset Description**: The dataset, named \"customer_churn,\" contains information about customers of a telecom company. Each row represents a unique customer, and the columns provide various attributes such as customer demographics, services subscribed, tenure, payment method, and churn status.\n",
    "\n",
    "* Attributes in the dataset include:\n",
    "    * Customer demographics (e.g., gender, age, senior citizenship)\n",
    "    * Services subscribed (e.g., internet service type)\n",
    "    * Tenure (duration of subscription)\n",
    "    * Payment method\n",
    "    * Churn status (whether the customer has churned or not)\n",
    "\n",
    "**Objective:**\n",
    "The objective of our analysis is to gain insights from the data and develop strategies to prevent customers from churning out to competitors. We will perform data manipulation, visualization, and build predictive models to achieve this objective. \n",
    "* Key tasks include:\n",
    "\n",
    "    * Data manipulation to extract relevant subsets of data.\n",
    "    * Visualization to understand the distribution of variables.\n",
    "    * Building predictive models using machine learning algorithms to identify factors influencing churn and devise retention strategies."
   ]
  },
  {
   "cell_type": "markdown",
   "id": "d91fc5da",
   "metadata": {},
   "source": [
    "## Step:2 Import Necessary libraries"
   ]
  },
  {
   "cell_type": "code",
   "execution_count": null,
   "id": "cae640e5",
   "metadata": {},
   "outputs": [],
   "source": [
    "# Standard data manipulation libraries\n",
    "import pandas as pd\n",
    "import numpy as np\n",
    "\n",
    "# Data visualization libraries\n",
    "import seaborn as sns\n",
    "import matplotlib.pyplot as plt\n",
    "import plotly.express as px\n",
    "import plotly.graph_objects as go\n",
    "from plotly.subplots import make_subplots\n",
    "\n",
    "# Machine learning libraries\n",
    "from sklearn.preprocessing import StandardScaler, LabelEncoder\n",
    "from sklearn.model_selection import train_test_split\n",
    "from sklearn.linear_model import LogisticRegression\n",
    "from sklearn.tree import DecisionTreeClassifier\n",
    "from sklearn.ensemble import RandomForestClassifier\n",
    "\n",
    "# Ignore UserWarning\n",
    "import warnings\n",
    "warnings.filterwarnings(\"ignore\", category=UserWarning)\n",
    "\n",
    "# Evaluation Metrics\n",
    "from sklearn.metrics import accuracy_score, precision_score, recall_score, f1_score, roc_auc_score\n",
    "\n",
    "# Library for Model Saving and Loading\n",
    "import joblib"
   ]
  },
  {
   "cell_type": "markdown",
   "id": "842e53d9",
   "metadata": {},
   "source": [
    "## Step:3 Data loading"
   ]
  },
  {
   "cell_type": "code",
   "execution_count": null,
   "id": "25a80dda",
   "metadata": {},
   "outputs": [],
   "source": [
    "df=pd.read_csv(r\"E:\\csv\\Intel csv\\customer_churn.csv\")"
   ]
  },
  {
   "cell_type": "markdown",
   "id": "0ecc30bc",
   "metadata": {},
   "source": [
    "**About columns in dataset**\n",
    "\n",
    "* customerID: this column contain unique value to identify customers uniquely\n",
    "* gender: this column contain categorical value male or female\n",
    "* SeniorCitizen: this column also contan categorical value 1(senior citizen) or 0(not a senior citizen) \n",
    "* Partner: this column can be anything, let's consider as married(1)(yes) or not married(0)(no)\n",
    "* Dependents: this column also can be anything, let's consider as person have job(yes)(1) or not(no)(0)\n",
    "* tenure: this indicates the number of months a customer has been using the services of Telecom Company\n",
    "* PhoneService: this column indicates whether customer using calling service or not\n",
    "* MultipleLines: In some PNT landline phone there is two line, line1 and line2 are present means customer have choice to call with any one line\n",
    "    * yes means customer have multiple line\n",
    "    * no means not using multiple line\n",
    "    * no phone means customer have no phone \n",
    "* InternetService: Type of internet service subscribed by the customer (DSL, Fiber optic, No)\n",
    "    * DSL provides high-speed internet access through a wired connection, usually via a modem and telephone line infrastructure\n",
    "* OnlineSecurity: Indicates if the customer has online security service (Yes/No).\n",
    "* OnlineBackup: Indicates if the customer has online backup service (Yes/No).\n",
    "* DeviceProtection: Indicates if the customer has device protection service (Yes/No).\n",
    "* TechSupport: Indicates if the customer has tech support service (Yes/No).\n",
    "* StreamingTV: Indicates if the customer has streaming TV service (Yes/No).\n",
    "* StreamingMovies: Indicates if the customer has streaming movie service (Yes/No).\n",
    "* Contract: Type of contract the customer has (Month-to-month, One year, Two year).\n",
    "* PaperlessBilling: Indicates if the customer has opted for prepaid sim i.e paperless(yes), or postpaid sim(no) which have a paper bill\n",
    "* PaymentMethod: Payment method used by the customer (Electronic check (paytm), Mailed check, Bank transfer (automatic), Credit card (automatic))\n",
    "* MonthlyCharges: Amount charged to the customer monthly.\n",
    "* TotalCharges: Total amount charged to the customer.\n",
    "* Churn: Indicates if the customer has churned (Yes/No)."
   ]
  },
  {
   "cell_type": "markdown",
   "id": "99b80f93",
   "metadata": {},
   "source": [
    "## Step:4 Exploratory Data Analysis (EDA)"
   ]
  },
  {
   "cell_type": "markdown",
   "id": "7bd62f0d",
   "metadata": {},
   "source": [
    "#### 4.1 Data Overview\n",
    "* Checking the dimensions of the dataset (number of rows and columns).\n",
    "* Inspect first few rows to understand the structure of the data."
   ]
  },
  {
   "cell_type": "code",
   "execution_count": null,
   "id": "a3c9c906",
   "metadata": {},
   "outputs": [],
   "source": [
    "# view top 5 records\n",
    "df.head()"
   ]
  },
  {
   "cell_type": "code",
   "execution_count": null,
   "id": "f87a9437",
   "metadata": {},
   "outputs": [],
   "source": [
    "# view last 5 records\n",
    "df.tail()"
   ]
  },
  {
   "cell_type": "code",
   "execution_count": null,
   "id": "6d5391e2",
   "metadata": {},
   "outputs": [],
   "source": [
    "#Checking the shape of the dataset\n",
    "df.shape"
   ]
  },
  {
   "cell_type": "code",
   "execution_count": null,
   "id": "2cf9aced",
   "metadata": {},
   "outputs": [],
   "source": [
    "# To view all records\n",
    "print(df.to_string())"
   ]
  },
  {
   "cell_type": "markdown",
   "id": "e787897f",
   "metadata": {},
   "source": [
    "#### 4.2 Checking for Duplicates"
   ]
  },
  {
   "cell_type": "code",
   "execution_count": null,
   "id": "572b9152",
   "metadata": {},
   "outputs": [],
   "source": [
    "# checking for duplicated values\n",
    "df.duplicated().sum()"
   ]
  },
  {
   "cell_type": "markdown",
   "id": "67b5ffb7",
   "metadata": {},
   "source": [
    "#### 4.3 Understanding Data Types and Information"
   ]
  },
  {
   "cell_type": "code",
   "execution_count": null,
   "id": "cd215aab",
   "metadata": {},
   "outputs": [],
   "source": [
    "# Checking information about my data\n",
    "df.info()"
   ]
  },
  {
   "cell_type": "markdown",
   "id": "e15f5bd2",
   "metadata": {},
   "source": [
    "* Within this dataset, we have one column of float type named 'monthlyCharges',\n",
    "* two columns of int64 type named 'SeniorCitizen' and 'Tenure', and\n",
    "* eighteen columns of object type."
   ]
  },
  {
   "cell_type": "code",
   "execution_count": null,
   "id": "132975c3",
   "metadata": {},
   "outputs": [],
   "source": [
    "# Count no of records for each column\n",
    "df.count()"
   ]
  },
  {
   "cell_type": "code",
   "execution_count": null,
   "id": "46507cb4",
   "metadata": {},
   "outputs": [],
   "source": [
    "# Count occurrences of unique value in Gender Column\n",
    "df['gender'].value_counts()"
   ]
  },
  {
   "cell_type": "code",
   "execution_count": null,
   "id": "c64ddb19",
   "metadata": {},
   "outputs": [],
   "source": [
    "#checking number of unique values in each column\n",
    "df.nunique()"
   ]
  },
  {
   "cell_type": "code",
   "execution_count": null,
   "id": "13f2f238",
   "metadata": {},
   "outputs": [],
   "source": [
    "#Checking the unique values in each column\n",
    "cols = df.columns\n",
    "for i in cols:\n",
    "    print(i, df[i].unique(), '\\n')"
   ]
  },
  {
   "cell_type": "markdown",
   "id": "a95576e4",
   "metadata": {},
   "source": [
    "#### 4.4 Descriptive Statistics"
   ]
  },
  {
   "cell_type": "code",
   "execution_count": null,
   "id": "b43826f7",
   "metadata": {},
   "outputs": [],
   "source": [
    "df.describe()"
   ]
  },
  {
   "cell_type": "markdown",
   "id": "4b446e23",
   "metadata": {},
   "source": [
    "**Insights from SeniorCitizen Column:**\n",
    "\n",
    "* Approximately 16.21% of the customers in the dataset are senior citizens.\n",
    "\n",
    "**Insights from Tenure Column:**\n",
    "* The average tenure of customers is approximately 32.37 months.\n",
    "* The standard deviation of approximately 24.56 suggests variability in the tenure lengths of customers, indicating that some customers have been with the company for a shorter duration, while others have been with the company for a longer duration.\n",
    "* The minimum tenure is 0 months, indicating that there are customers who are relatively new to the service, while the maximum tenure is 72 months, indicating long-term customers.\n",
    "\n",
    "**Insights from MonthlyCharges Column:**\n",
    "\n",
    "* The average monthly charge is approximately \\\\$64.76.\n",
    "* The standard deviation of approximately \\\\$30.09 suggests variability in monthly charges across customers.\n",
    "* Monthly charges range from \\\\$18.25 to \\\\$118.75, indicating a wide range of pricing plans or services offered to customers."
   ]
  },
  {
   "cell_type": "markdown",
   "id": "6424915b",
   "metadata": {},
   "source": [
    "#### 4.5 Removing Customer_id column"
   ]
  },
  {
   "cell_type": "code",
   "execution_count": null,
   "id": "13125ffa",
   "metadata": {},
   "outputs": [],
   "source": [
    "# Removing the 'customerID' column as it is not required for our analysis\n",
    "df.drop(columns='customerID', inplace=True)"
   ]
  },
  {
   "cell_type": "markdown",
   "id": "6bedf189",
   "metadata": {},
   "source": [
    "#### 4.6 Typecasting 'TotalCharges' column from object to numeric"
   ]
  },
  {
   "cell_type": "code",
   "execution_count": null,
   "id": "0610024e",
   "metadata": {},
   "outputs": [],
   "source": [
    "df['TotalCharges'] = pd.to_numeric(df['TotalCharges'], errors='coerce')"
   ]
  },
  {
   "cell_type": "markdown",
   "id": "adb2ce4a",
   "metadata": {},
   "source": [
    "#### 4.7 Checking for Null Values"
   ]
  },
  {
   "cell_type": "code",
   "execution_count": null,
   "id": "2c36adf9",
   "metadata": {},
   "outputs": [],
   "source": [
    "# checking null values\n",
    "df.isnull().sum().sum()"
   ]
  },
  {
   "cell_type": "markdown",
   "id": "f2395288",
   "metadata": {},
   "source": [
    "#### 4.8 Handling Missing Values"
   ]
  },
  {
   "cell_type": "code",
   "execution_count": null,
   "id": "9e56a893",
   "metadata": {},
   "outputs": [],
   "source": [
    "# Drop null values\n",
    "df.dropna(inplace=True)\n",
    "\n",
    "# Check if null values have been dropped\n",
    "null_count = df.isnull().sum().sum()\n",
    "null_count"
   ]
  },
  {
   "cell_type": "markdown",
   "id": "49e7a1f5",
   "metadata": {},
   "source": [
    "#### 4.9 Outlier Analysis"
   ]
  },
  {
   "cell_type": "code",
   "execution_count": null,
   "id": "44ce287a",
   "metadata": {},
   "outputs": [],
   "source": [
    "# Ploting box-plot for checking outliers\n",
    "col = ['tenure', 'MonthlyCharges', 'TotalCharges']\n",
    "\n",
    "for col_name in col:\n",
    "    if df[col_name].dtype != 'object':\n",
    "        fig = px.box(df, y=col_name)\n",
    "        fig.update_layout(title=f'Box plot of {col_name}', xaxis_title=col_name, yaxis_title='Count')\n",
    "        fig.show()"
   ]
  },
  {
   "cell_type": "markdown",
   "id": "8ff40ba1",
   "metadata": {},
   "source": [
    "* So, based on the above plot, we can confidently conclude that there are no outliers present in the dataset."
   ]
  },
  {
   "cell_type": "markdown",
   "id": "9fbf096d",
   "metadata": {},
   "source": [
    "## Step: 5 Data Visualization"
   ]
  },
  {
   "cell_type": "markdown",
   "id": "5ebf9385",
   "metadata": {},
   "source": [
    "### 5.1 Univariate Analysis"
   ]
  },
  {
   "cell_type": "markdown",
   "id": "96d45436",
   "metadata": {},
   "source": [
    "#### 5.1.1 Visualization of Customer Demographics"
   ]
  },
  {
   "cell_type": "code",
   "execution_count": null,
   "id": "ece08c23",
   "metadata": {},
   "outputs": [],
   "source": [
    "# Create subplots\n",
    "fig = make_subplots(\n",
    "    rows=2, cols=2,\n",
    "    subplot_titles=(\"Gender Distribution\", \"Senior Citizen Distribution\", \"Partner Distribution\", \"Dependents Distribution\"),\n",
    "    specs=[[{'type': 'domain'}, {'type': 'xy'}],\n",
    "           [{'type': 'xy'}, {'type': 'xy'}]]\n",
    ")\n",
    "\n",
    "# Gender Distribution\n",
    "gender_counts = df['gender'].value_counts()\n",
    "fig.add_trace(go.Pie(labels=gender_counts.index, values=gender_counts.values, hole=.3), row=1, col=1)\n",
    "\n",
    "# Senior Citizen Distribution\n",
    "senior_counts = df['SeniorCitizen'].value_counts()\n",
    "fig.add_trace(go.Bar(x=senior_counts.index, y=senior_counts.values, marker=dict(color='royalblue')), row=1, col=2)\n",
    "\n",
    "# Partner Distribution\n",
    "partner_counts = df['Partner'].value_counts()\n",
    "fig.add_trace(go.Bar(x=partner_counts.index, y=partner_counts.values, marker=dict(color='royalblue')), row=2, col=1)\n",
    "\n",
    "# Dependents Distribution\n",
    "dependents_counts = df['Dependents'].value_counts()\n",
    "fig.add_trace(go.Bar(x=dependents_counts.index, y=dependents_counts.values, marker=dict(color='royalblue')), row=2, col=2)\n",
    "\n",
    "# Update layout\n",
    "fig.update_layout(title_text=\"Distribution Plots\", height=600, width=1000, showlegend=False)\n",
    "\n",
    "fig.show()"
   ]
  },
  {
   "cell_type": "markdown",
   "id": "271fc670",
   "metadata": {},
   "source": [
    "From the above Customer Demographics plot, I can say that:\n",
    "\n",
    "* The number of males and females is almost the same, with slightly more males than females in the dataset.\n",
    "* The majority of customers are not senior citizens.\n",
    "* Nearly 3,500 customers have a partner, and almost similar number of customers don't.\n",
    "* Most customers don't have dependents, but a significant number do have dependents.\n",
    "(Dependents are individuals who are not earning and rely on their family members for financial support, including paying for their plan recharges and other expenses.)\n",
    "\n",
    "From these graphs, we gain insights into the customers' demographics, which helps us understand their psychology based on age, relationship status, and dependents."
   ]
  },
  {
   "cell_type": "markdown",
   "id": "71b7ba23",
   "metadata": {},
   "source": [
    "#### 5.1.2 Visualization of Services provided by Telecom Company"
   ]
  },
  {
   "cell_type": "code",
   "execution_count": null,
   "id": "ce009099",
   "metadata": {},
   "outputs": [],
   "source": [
    "# Create a subplot figure with 3x3 layout\n",
    "fig = make_subplots(rows=3, cols=3, subplot_titles=(\n",
    "    'Phone Service', 'Multiple Lines', 'Internet Service',\n",
    "    'Online Security', 'Online Backup', 'Device Protection',\n",
    "    'Tech Support', 'Streaming TV', 'Streaming Movies'\n",
    "))\n",
    "\n",
    "# List of columns to plot\n",
    "columns_to_plot = [\n",
    "    'PhoneService', 'MultipleLines', 'InternetService',\n",
    "    'OnlineSecurity', 'OnlineBackup', 'DeviceProtection',\n",
    "    'TechSupport', 'StreamingTV', 'StreamingMovies'\n",
    "]\n",
    "\n",
    "# Add traces for each subplot\n",
    "for i, col in enumerate(columns_to_plot):\n",
    "    row = i // 3 + 1\n",
    "    col_pos = i % 3 + 1\n",
    "    counts = df[col].value_counts().reset_index()\n",
    "    counts.columns = ['category', 'count']\n",
    "    trace = go.Bar(x=counts['category'], y=counts['count'], name=col)\n",
    "    fig.add_trace(trace, row=row, col=col_pos)\n",
    "\n",
    "# Update layout\n",
    "fig.update_layout(\n",
    "    title_text='Customer Demographics',\n",
    "    showlegend=False,\n",
    "    height=800,\n",
    "    width=1000\n",
    ")\n",
    "\n",
    "# Show the figure\n",
    "fig.show()"
   ]
  },
  {
   "cell_type": "markdown",
   "id": "88806e10",
   "metadata": {},
   "source": [
    "The above graphs visualize the services taken by customers from the telecom company.\n",
    "\n",
    "**Inference:1** For PhoneService, MultipleLines and InternetService\n",
    "\n",
    "* Nearly 6000 customers have taken phone service.\n",
    "* Among these 6000, nearly half have opted for multiple lines from the company.\n",
    "* Almost 5500 customers have taken internet services from the company, with nearly 3000 opting for fiber optic and the rest opting for DSL, likely for business purposes. From these three major telecom services, phone services and internet services are the most popular among customers.\n",
    "\n",
    "**Inference:2** When it comes to other services, including Online Security, Online Backup, Device Protection, Tech Support, and Streaming Services:\n",
    "\n",
    "* Online backup and device protection services are opted for by almost 2500 customers, highlighting customers' concerns regarding their device safety and data protection.\n",
    "* Online security and tech support are the least opted services among customers, with almost 2000 customers choosing them.\n",
    "* Streaming services are the most popular, with more than 2500 customers opting for them.\n",
    "\n",
    "From this, I conclude that apart from internet and phone services, streaming services are the most opted ones. Therefore, the company should focus on providing better streaming services to the customers."
   ]
  },
  {
   "cell_type": "markdown",
   "id": "811cc0af",
   "metadata": {},
   "source": [
    "#### 5.1.3 Visualization of Customer Tenure and Contract Type"
   ]
  },
  {
   "cell_type": "code",
   "execution_count": null,
   "id": "1da2049a",
   "metadata": {},
   "outputs": [],
   "source": [
    "# Create subplot figure with 1 row and 2 columns\n",
    "fig = make_subplots(rows=1, cols=2, subplot_titles=('Customer Tenure in Months', 'Contract Type'))\n",
    "\n",
    "# Plot histogram of customer tenure\n",
    "fig.add_trace(go.Histogram(x=df['tenure'], name='Customer Tenure'), row=1, col=1)\n",
    "\n",
    "# Plot count of contract types\n",
    "contract_counts = df['Contract'].value_counts()\n",
    "fig.add_trace(go.Bar(x=contract_counts.index, y=contract_counts.values, name='Contract Type'), row=1, col=2)\n",
    "\n",
    "# Update layout\n",
    "fig.update_layout(title_text='Customer Tenure and Contract Type', showlegend=False, height=500, width=1000)\n",
    "\n",
    "# Show the figure\n",
    "fig.show()"
   ]
  },
  {
   "cell_type": "markdown",
   "id": "cbe6ebdf",
   "metadata": {},
   "source": [
    "From the above graphs, we can see the distribution of customer tenure with the company and the count of the types of contracts the company had with customers.\n",
    "\n",
    "* Most customers had a tenure of less than a month, and nearly 3800 customers had a month-to-month contract with the company.\n",
    "* Therefore, customers with shorter tenure typically have a month-to-month contract with the company.\n",
    "* In addition, a significant number of customers have a tenure of nearly 70 months, highlighting the loyalty of these customers towards the company.\n",
    "* Moreover, after the month-to-month contract, the second most popular contract is the two-year contract, which is opted for by nearly 1700 customers. The remaining customers have a one-year contract."
   ]
  },
  {
   "cell_type": "markdown",
   "id": "72151147",
   "metadata": {},
   "source": [
    "#### 5.1.4 Insights into Billing Preferences and Charge Patterns"
   ]
  },
  {
   "cell_type": "code",
   "execution_count": null,
   "id": "2716464e",
   "metadata": {},
   "outputs": [],
   "source": [
    "# Create subplot figure with 2 rows and 2 columns\n",
    "fig = make_subplots(\n",
    "    rows=2, cols=2,\n",
    "    subplot_titles=('Paperless Billing', 'Payment Method', 'Monthly Charges', 'Total Charges'),\n",
    "    vertical_spacing=0.3,\n",
    "    horizontal_spacing=0.1\n",
    ")\n",
    "\n",
    "# Plot Paperless Billing\n",
    "paperless_counts = df['PaperlessBilling'].value_counts()\n",
    "fig.add_trace(go.Bar(x=paperless_counts.index, y=paperless_counts.values, name='Paperless Billing'), row=1, col=1)\n",
    "\n",
    "# Plot Payment Method\n",
    "payment_counts = df['PaymentMethod'].value_counts()\n",
    "fig.add_trace(go.Bar(x=payment_counts.index, y=payment_counts.values, name='Payment Method'), row=1, col=2)\n",
    "\n",
    "# Plot Monthly Charges\n",
    "fig.add_trace(go.Histogram(x=df['MonthlyCharges'], name='Monthly Charges'), row=2, col=1)\n",
    "\n",
    "# Plot Total Charges\n",
    "fig.add_trace(go.Histogram(x=df['TotalCharges'], name='Total Charges'), row=2, col=2)\n",
    "\n",
    "# Update layout\n",
    "fig.update_layout(\n",
    "    title_text='Customer Billing and Charges',\n",
    "    showlegend=False,\n",
    "    height=800,\n",
    "    width=1000\n",
    ")\n",
    "\n",
    "# Rotate x-axis labels for Payment Method\n",
    "fig.update_xaxes(tickangle=90, row=1, col=2)\n",
    "\n",
    "# Show the figure\n",
    "fig.show()"
   ]
  },
  {
   "cell_type": "markdown",
   "id": "7d83a844",
   "metadata": {},
   "source": [
    "These graphs show the method of billing and the bill amounts.\n",
    "\n",
    "**Inference 1:** Inferences from bar plots of 'Paperless Billing' and 'Payment Method' columns\n",
    "\n",
    "* Most of the customers, nearly 4000, prefer paperless billing. However, a little over half of them pay through electronic checks.\n",
    "* A significant number of customers still prefer paper bills.\n",
    "* Apart from electronic checks, the other modes of payment accepted by the company include mailed checks, bank transfers, and credit cards.\n",
    "\n",
    "**Inference 2:** Inferences from histograms of 'Monthly Charges' and 'Total Charges' columns\n",
    "\n",
    "* For the monthly charges, a large number of customers pay around \\\\$20 for monthly services, and the majority of customers have total charges less than \\\\$200.\n",
    "* However, there are a considerable number of customers with monthly charges between \\\\$70 to \\\\$100 and total charges between \\\\$200 and \\\\$800.\n",
    "* Interestingly, if we look at the total charges graph, we can see that some customers have a total bill exceeding \\\\$4000 and even \\\\$8000. This could be possible if the customer has a long tenure or uses many services.\n",
    "\n",
    "In conclusion, the company mainly has customers with low charges, which means the company should focus on these customers by providing even more affordable services."
   ]
  },
  {
   "cell_type": "markdown",
   "id": "73566fed",
   "metadata": {},
   "source": [
    "#### 5.1.5 Churn Analysis"
   ]
  },
  {
   "cell_type": "code",
   "execution_count": null,
   "id": "27d65824",
   "metadata": {},
   "outputs": [],
   "source": [
    "# Create the pie chart\n",
    "fig = px.pie(df, \n",
    "             names='Churn', \n",
    "             title='Churn Count', \n",
    "             hole=0.3,  # If you want a donut chart, otherwise remove this\n",
    "             color_discrete_sequence=px.colors.sequential.RdBu)\n",
    "\n",
    "# Display the chart\n",
    "fig.show()"
   ]
  },
  {
   "cell_type": "markdown",
   "id": "69f8d09b",
   "metadata": {},
   "source": [
    "In the dataset, the number of churning customers is very low compared to non-churning customers. \n",
    "* Only 26.5% of customers have churned out from the telecom company. \n",
    "* This could potentially indicate that the company is quite effective at retaining its customers."
   ]
  },
  {
   "cell_type": "markdown",
   "id": "001913e2",
   "metadata": {},
   "source": [
    "### 5.2 Bi-Variate Analysis\n",
    "\n",
    "* Up to this point, I've visualized the data to gain a comprehensive understanding. \n",
    "* Now, I'll examine the relationship between the independent variables and the target variable."
   ]
  },
  {
   "cell_type": "markdown",
   "id": "706a064a",
   "metadata": {},
   "source": [
    "#### 5.2.1 Demographic Analysis and Churn Relationship"
   ]
  },
  {
   "cell_type": "code",
   "execution_count": null,
   "id": "92e31afb",
   "metadata": {},
   "outputs": [],
   "source": [
    "# Create subplot figure with 2 rows and 2 columns\n",
    "fig = make_subplots(\n",
    "    rows=2, cols=2,\n",
    "    subplot_titles=('Gender Distribution', 'Senior Citizen and Churn', 'Partner and Churn', 'Dependents and Churn')\n",
    ")\n",
    "\n",
    "# Gender Distribution\n",
    "gender_fig = px.histogram(df, x='gender', color='Churn', barmode='group')\n",
    "for trace in gender_fig.data:\n",
    "    fig.add_trace(trace, row=1, col=1)\n",
    "\n",
    "# Senior Citizen Distribution\n",
    "senior_citizen_fig = px.histogram(df, x='SeniorCitizen', color='Churn', barmode='group')\n",
    "for trace in senior_citizen_fig.data:\n",
    "    fig.add_trace(trace, row=1, col=2)\n",
    "\n",
    "# Partner Distribution\n",
    "partner_fig = px.histogram(df, x='Partner', color='Churn', barmode='group')\n",
    "for trace in partner_fig.data:\n",
    "    fig.add_trace(trace, row=2, col=1)\n",
    "\n",
    "# Dependents Distribution\n",
    "dependents_fig = px.histogram(df, x='Dependents', color='Churn', barmode='group')\n",
    "for trace in dependents_fig.data:\n",
    "    fig.add_trace(trace, row=2, col=2)\n",
    "\n",
    "# Update layout\n",
    "fig.update_layout(\n",
    "    title_text='Customer Demographics and Churn Distribution',\n",
    "    height=800,\n",
    "    width=1000\n",
    ")\n",
    "\n",
    "# Show the figure\n",
    "fig.show()"
   ]
  },
  {
   "cell_type": "markdown",
   "id": "327ed498",
   "metadata": {},
   "source": [
    "From these graphs, we can understand the relationship between customer demographics and customer churn.\n",
    "\n",
    "* Both males and females have an equal number of churns, indicating no significant relationship between gender and customer churn.\n",
    "* However, senior citizens have a lower churn count compared to non-senior citizens, possibly because they might prefer avoiding the hassle of switching telecom companies.\n",
    "* Customers without partners have a higher churn count compared to those with partners. Similarly, customers without dependents have a higher churn count compared to those with dependents.\n",
    "\n",
    "In conclusion, customers who are single, without a partner, or without dependents have a higher churn count, while senior citizens have a lower churn count."
   ]
  },
  {
   "cell_type": "markdown",
   "id": "ef3db884",
   "metadata": {},
   "source": [
    "#### 5.2.2 Impact of Service Choices on Customer Churn"
   ]
  },
  {
   "cell_type": "code",
   "execution_count": null,
   "id": "3dfc3fae",
   "metadata": {},
   "outputs": [],
   "source": [
    "# Create subplots using Seaborn\n",
    "fig, ax = plt.subplots(3, 3, figsize=(20, 20))\n",
    "\n",
    "# Phone Service\n",
    "sns.countplot(x='PhoneService', data=df, hue='Churn', ax=ax[0,0]).set_title('Phone Service')\n",
    "\n",
    "# Multiple Lines\n",
    "sns.countplot(x='MultipleLines', data=df, hue='Churn', ax=ax[0,1]).set_title('Multiple Lines')\n",
    "\n",
    "# Internet Service\n",
    "sns.countplot(x='InternetService', data=df, hue='Churn', ax=ax[0,2]).set_title('Internet Service')\n",
    "\n",
    "# Online Security\n",
    "sns.countplot(x='OnlineSecurity', data=df, hue='Churn', ax=ax[1,0]).set_title('Online Security')\n",
    "\n",
    "# Online Backup\n",
    "sns.countplot(x='OnlineBackup', data=df, hue='Churn', ax=ax[1,1]).set_title('Online Backup')\n",
    "\n",
    "# Device Protection\n",
    "sns.countplot(x='DeviceProtection', data=df, hue='Churn', ax=ax[1,2]).set_title('Device Protection')\n",
    "\n",
    "# Tech Support\n",
    "sns.countplot(x='TechSupport', data=df, hue='Churn', ax=ax[2,0]).set_title('Tech Support')\n",
    "\n",
    "# Streaming TV\n",
    "sns.countplot(x='StreamingTV', data=df, hue='Churn', ax=ax[2,1]).set_title('Streaming TV')\n",
    "\n",
    "# Streaming Movies\n",
    "sns.countplot(x='StreamingMovies', data=df, hue='Churn', ax=ax[2,2]).set_title('Streaming Movies')\n",
    "\n",
    "plt.tight_layout()\n",
    "plt.show()"
   ]
  },
  {
   "cell_type": "markdown",
   "id": "6d56d302",
   "metadata": {},
   "source": [
    "These graphs visualize the relationship between customer churn and the services opted by customers.\n",
    "\n",
    "* In the phone and internet services, there is no significant relationship between churn and the type of service opted.\n",
    "* However, the churn rate is higher among customers who have opted for multiple lines.\n",
    "\n",
    "Regarding other services:\n",
    "\n",
    "* Customers who have not taken Online Backup or Device Protection services have a higher churn rate compared to those who have opted for these services.\n",
    "* Additionally, customers with streaming services have a lower churn rate compared to those who have not opted for them.\n",
    "Therefore, certain services are related to customer churn, specifically multiple lines, Online Backup, Device Protection, and Streaming Services."
   ]
  },
  {
   "cell_type": "markdown",
   "id": "e8a90dc3",
   "metadata": {},
   "source": [
    "#### 5.2.3 Relationship Between Customer Tenure, Contract Type, and Churn"
   ]
  },
  {
   "cell_type": "code",
   "execution_count": null,
   "id": "58cce1ba",
   "metadata": {},
   "outputs": [],
   "source": [
    "# Creating subplots\n",
    "fig = make_subplots(rows=1, cols=2, subplot_titles=('Customer Tenure (in Months) and Churn', 'Contract Type and Churn'))\n",
    "\n",
    "# Tenure and Churn histogram\n",
    "tenure_hist = px.histogram(df, x='tenure', color='Churn', barmode='stack')\n",
    "for trace in tenure_hist['data']:\n",
    "    fig.add_trace(trace, row=1, col=1)\n",
    "\n",
    "# Contract Type and Churn countplot\n",
    "contract_count = px.histogram(df, x='Contract', color='Churn')\n",
    "for trace in contract_count['data']:\n",
    "    fig.add_trace(trace, row=1, col=2)\n",
    "\n",
    "# Updating layout\n",
    "fig.update_layout(height=600, width=1000, title_text='Customer Tenure and Contract Type in Relation to Churn')\n",
    "\n",
    "# Showing the figure\n",
    "fig.show()"
   ]
  },
  {
   "cell_type": "markdown",
   "id": "f4079d48",
   "metadata": {},
   "source": [
    "* There appears to be an inverse relationship between customer tenure and churn.\n",
    "* Customers with shorter tenures, particularly less than 5 months, exhibit a higher churn rate.\n",
    "* As tenure increases, the churn rate decreases.\n",
    "* Additionally, customers with month-to-month contracts demonstrate a higher churn rate compared to those with one or two-year contracts. This suggests that customers with longer contract durations have a lower churn rate."
   ]
  },
  {
   "cell_type": "markdown",
   "id": "f84cf0c5",
   "metadata": {},
   "source": [
    "#### 5.2.4 Impact of Billing Methods and Charges on Churn"
   ]
  },
  {
   "cell_type": "code",
   "execution_count": null,
   "id": "00f6d340",
   "metadata": {},
   "outputs": [],
   "source": [
    "# Create subplots\n",
    "fig = make_subplots(rows=2, cols=2, subplot_titles=(\"Paperless Billing\", \"Payment Method\", \"Monthly Charges\", \"Total Charges\"))\n",
    "\n",
    "# Paperless Billing\n",
    "fig.add_trace(go.Bar(x=df['PaperlessBilling'], y=df[df['Churn'] == 'Yes'].groupby('PaperlessBilling').size(), name='Churned', marker_color='red'), row=1, col=1)\n",
    "fig.add_trace(go.Bar(x=df['PaperlessBilling'], y=df[df['Churn'] == 'No'].groupby('PaperlessBilling').size(), name='Not Churned', marker_color='green'), row=1, col=1)\n",
    "\n",
    "# Payment Method\n",
    "fig.add_trace(go.Bar(x=df['PaymentMethod'], y=df[df['Churn'] == 'Yes'].groupby('PaymentMethod').size(), name='Churned', marker_color='red'), row=1, col=2)\n",
    "fig.add_trace(go.Bar(x=df['PaymentMethod'], y=df[df['Churn'] == 'No'].groupby('PaymentMethod').size(), name='Not Churned', marker_color='green'), row=1, col=2)\n",
    "\n",
    "# Monthly Charges\n",
    "fig.add_trace(go.Histogram(x=df[df['Churn'] == 'Yes']['MonthlyCharges'], name='Churned', marker_color='red', opacity=0.5), row=2, col=1)\n",
    "fig.add_trace(go.Histogram(x=df[df['Churn'] == 'No']['MonthlyCharges'], name='Not Churned', marker_color='green', opacity=0.5), row=2, col=1)\n",
    "\n",
    "# Total Charges\n",
    "fig.add_trace(go.Histogram(x=df[df['Churn'] == 'Yes']['TotalCharges'], name='Churned', marker_color='red', opacity=0.5), row=2, col=2)\n",
    "fig.add_trace(go.Histogram(x=df[df['Churn'] == 'No']['TotalCharges'], name='Not Churned', marker_color='green', opacity=0.5), row=2, col=2)\n",
    "\n",
    "# Update layout\n",
    "fig.update_layout(title_text=\"Customer Churn Analysis\", height=700, width=1000)\n",
    "\n",
    "# Show plot\n",
    "fig.show()"
   ]
  },
  {
   "cell_type": "markdown",
   "id": "2f1eb28b",
   "metadata": {},
   "source": [
    "* There appears to be no significant relationship between paperless billing and payment method with customer churn.\n",
    "* However, monthly and total charges exhibit interesting dynamics regarding customer churn.\n",
    "* Customers with higher monthly charges tend to have a higher churn count, which aligns with expectations.\n",
    "* Surprisingly, customers with higher total charges demonstrate a lower churn count, which suggests a potential correlation with long tenure or extensive service usage.\n",
    "* This phenomenon could arise if the customer has a lengthy tenure or utilizes numerous services.\n",
    "* Therefore, reducing monthly charges for customers may be a strategic approach to mitigate churn."
   ]
  },
  {
   "cell_type": "markdown",
   "id": "cf9c2e11",
   "metadata": {},
   "source": [
    "## Step:6 Data Preprocessing"
   ]
  },
  {
   "cell_type": "markdown",
   "id": "a2b30894",
   "metadata": {},
   "source": [
    "#### 6.1 Label encoding"
   ]
  },
  {
   "cell_type": "code",
   "execution_count": null,
   "id": "f0ae9820",
   "metadata": {},
   "outputs": [],
   "source": [
    "# Create an empty dictionary to store the mapping\n",
    "encoded_to_original = {}\n",
    "\n",
    "for col in df.columns:\n",
    "    if df[col].dtype == \"object\" or df[col].dtype == \"bool\":\n",
    "        le = LabelEncoder()\n",
    "        # Fit and transform the column\n",
    "        df[col] = le.fit_transform(df[col]) \n",
    "        # Store the mapping in the dictionary\n",
    "        encoded_to_original[col] = {i: label for i, label in enumerate(le.classes_)}\n",
    "\n",
    "# Now you can access the original labels corresponding to each encoded value for each column\n",
    "encoded_to_original"
   ]
  },
  {
   "cell_type": "markdown",
   "id": "ff4f6055",
   "metadata": {},
   "source": [
    "#### 6.2 Feature Scaling"
   ]
  },
  {
   "cell_type": "code",
   "execution_count": null,
   "id": "00e226d6",
   "metadata": {},
   "outputs": [],
   "source": [
    "#Standardizing the data\n",
    "sc = StandardScaler()\n",
    "df[['tenure', 'MonthlyCharges', 'TotalCharges']] = sc.fit_transform(df[['tenure', 'MonthlyCharges', 'TotalCharges']])"
   ]
  },
  {
   "cell_type": "code",
   "execution_count": null,
   "id": "2071a41e",
   "metadata": {},
   "outputs": [],
   "source": [
    "df.head()"
   ]
  },
  {
   "cell_type": "markdown",
   "id": "0fdb4d0d",
   "metadata": {},
   "source": [
    "## Step:7 Model Building\n",
    "\n",
    "I will be using the following models to predict the customer churn:\n",
    "1. Logistic Regression\n",
    "2. Decision Tree Classifier\n",
    "3. Random Forest Classifier"
   ]
  },
  {
   "cell_type": "markdown",
   "id": "37123976",
   "metadata": {},
   "source": [
    "### 7.1 Train test split"
   ]
  },
  {
   "cell_type": "code",
   "execution_count": null,
   "id": "8a0162ab",
   "metadata": {},
   "outputs": [],
   "source": [
    "X = df.drop(columns='Churn')\n",
    "y= df['Churn']"
   ]
  },
  {
   "cell_type": "code",
   "execution_count": null,
   "id": "d6a56357",
   "metadata": {},
   "outputs": [],
   "source": [
    "X_train, X_test, y_train, y_test = train_test_split(X, y, test_size=0.3, random_state=42)"
   ]
  },
  {
   "cell_type": "markdown",
   "id": "497d54fc",
   "metadata": {},
   "source": [
    "### 7.2 Applying Logistic Regression"
   ]
  },
  {
   "cell_type": "code",
   "execution_count": null,
   "id": "89ef9c8a",
   "metadata": {},
   "outputs": [],
   "source": [
    "# Initialize Logistic Regression model\n",
    "lg_model = LogisticRegression()\n",
    "\n",
    "# Train the model\n",
    "lg_model.fit(X_train, y_train)\n",
    "\n",
    "# Predict using the trained model\n",
    "lg_pred = lg_model.predict(X_test)"
   ]
  },
  {
   "cell_type": "markdown",
   "id": "c62f651e",
   "metadata": {},
   "source": [
    "### 7.3 Applying Decision Tree Classifier"
   ]
  },
  {
   "cell_type": "code",
   "execution_count": null,
   "id": "2b6b655a",
   "metadata": {},
   "outputs": [],
   "source": [
    "# Initialize Decision Tree Classifier model\n",
    "dt_model = DecisionTreeClassifier()\n",
    "\n",
    "# Train the model\n",
    "dt_model.fit(X_train, y_train)\n",
    "\n",
    "# Predict using the trained model\n",
    "dt_pred = dt_model.predict(X_test)"
   ]
  },
  {
   "cell_type": "markdown",
   "id": "7fc69fa9",
   "metadata": {},
   "source": [
    "### 7.4 Applying Random Forest Classifier"
   ]
  },
  {
   "cell_type": "code",
   "execution_count": null,
   "id": "24c0494f",
   "metadata": {},
   "outputs": [],
   "source": [
    "# Initialize Random Forest Classifier model\n",
    "rf_model = RandomForestClassifier()\n",
    "\n",
    "# Train the model\n",
    "rf_model.fit(X_train, y_train)\n",
    "\n",
    "# Predict using the trained model\n",
    "rf_pred = rf_model.predict(X_test)"
   ]
  },
  {
   "cell_type": "markdown",
   "id": "c839da98",
   "metadata": {},
   "source": [
    "## Step:8 Model Evaluation and Comparison"
   ]
  },
  {
   "cell_type": "markdown",
   "id": "18957b89",
   "metadata": {},
   "source": [
    "#### 8.1 Model Evaluation (Using Accuracy, Precision, Recall, F1-score, and ROC-AUC)"
   ]
  },
  {
   "cell_type": "code",
   "execution_count": null,
   "id": "06663143",
   "metadata": {},
   "outputs": [],
   "source": [
    "# Logistic Regression Evaluation\n",
    "lg_pred = lg_model.predict(X_test)\n",
    "lg_accuracy = accuracy_score(y_test, lg_pred)\n",
    "lg_precision = precision_score(y_test, lg_pred)\n",
    "lg_recall = recall_score(y_test, lg_pred)\n",
    "lg_f1 = f1_score(y_test, lg_pred)\n",
    "lg_roc_auc = roc_auc_score(y_test, lg_pred)\n",
    "\n",
    "# Decision Tree Classifier Evaluation\n",
    "dt_pred = dt_model.predict(X_test)\n",
    "dt_accuracy = accuracy_score(y_test, dt_pred)\n",
    "dt_precision = precision_score(y_test, dt_pred)\n",
    "dt_recall = recall_score(y_test, dt_pred)\n",
    "dt_f1 = f1_score(y_test, dt_pred)\n",
    "dt_roc_auc = roc_auc_score(y_test, dt_pred)\n",
    "\n",
    "# Random Forest Classifier Evaluation\n",
    "rf_pred = rf_model.predict(X_test)\n",
    "rf_accuracy = accuracy_score(y_test, rf_pred)\n",
    "rf_precision = precision_score(y_test, rf_pred)\n",
    "rf_recall = recall_score(y_test, rf_pred)\n",
    "rf_f1 = f1_score(y_test, rf_pred)\n",
    "rf_roc_auc = roc_auc_score(y_test, rf_pred)\n",
    "\n",
    "# Print or display evaluation metrics for each model\n",
    "print(\"Logistic Regression Metrics:\")\n",
    "print(\"Accuracy:\", lg_accuracy)\n",
    "print(\"Precision:\", lg_precision)\n",
    "print(\"Recall:\", lg_recall)\n",
    "print(\"F1-score:\", lg_f1)\n",
    "print(\"ROC-AUC:\", lg_roc_auc)\n",
    "print()\n",
    "\n",
    "print(\"Decision Tree Classifier Metrics:\")\n",
    "print(\"Accuracy:\", dt_accuracy)\n",
    "print(\"Precision:\", dt_precision)\n",
    "print(\"Recall:\", dt_recall)\n",
    "print(\"F1-score:\", dt_f1)\n",
    "print(\"ROC-AUC:\", dt_roc_auc)\n",
    "print()\n",
    "\n",
    "print(\"Random Forest Classifier Metrics:\")\n",
    "print(\"Accuracy:\", rf_accuracy)\n",
    "print(\"Precision:\", rf_precision)\n",
    "print(\"Recall:\", rf_recall)\n",
    "print(\"F1-score:\", rf_f1)\n",
    "print(\"ROC-AUC:\", rf_roc_auc)"
   ]
  },
  {
   "cell_type": "markdown",
   "id": "de7c47c4",
   "metadata": {},
   "source": [
    "#### 8.2 Model Comparison"
   ]
  },
  {
   "cell_type": "code",
   "execution_count": null,
   "id": "d0ab1d16",
   "metadata": {},
   "outputs": [],
   "source": [
    "# Comparing Model Performance based on Sccuracy\n",
    "models_accuracy = {'Logistic Regression': lg_accuracy, 'Decision Tree Classifier': dt_accuracy, 'Random Forest Classifier': rf_accuracy}\n",
    "best_model = max(models_accuracy, key=models_accuracy.get)\n",
    "print(\"Best Model based on Accuracy:\", best_model)"
   ]
  },
  {
   "cell_type": "markdown",
   "id": "fb6714c3",
   "metadata": {},
   "source": [
    "## Step:9 Model Saving and Loading for Scalability and Reproducibility"
   ]
  },
  {
   "cell_type": "markdown",
   "id": "f35befc1",
   "metadata": {},
   "source": [
    "#### 9.1 Saving the model"
   ]
  },
  {
   "cell_type": "code",
   "execution_count": null,
   "id": "56ad9955",
   "metadata": {},
   "outputs": [],
   "source": [
    "# Step 1: Saving the model\n",
    "model_file_path = '../models/customer_churn.pkl'\n",
    "\n",
    "# Save the model to the specified file path\n",
    "joblib.dump(lg_model, model_file_path)"
   ]
  },
  {
   "cell_type": "markdown",
   "id": "f98d194b",
   "metadata": {},
   "source": [
    "#### 9.2 Loading the model"
   ]
  },
  {
   "cell_type": "code",
   "execution_count": null,
   "id": "b2318ce6",
   "metadata": {},
   "outputs": [],
   "source": [
    "# Step 2: Loading the model\n",
    "loaded_model = joblib.load(model_file_path)"
   ]
  },
  {
   "cell_type": "markdown",
   "id": "c5019c4e",
   "metadata": {},
   "source": [
    "#### 9.3 Perform predictions using the loaded model"
   ]
  },
  {
   "cell_type": "code",
   "execution_count": null,
   "id": "d266774c",
   "metadata": {},
   "outputs": [],
   "source": [
    "# Step 3: Perform predictions using the loaded model\n",
    "predictions = loaded_model.predict([[1, 1, 1, 0, -1.158016, 1, 2, 1, 0, 0, 0, 0, 0, 0, 0, 1, 3, 0.319168, -0.872095]])\n",
    "print(predictions)"
   ]
  },
  {
   "cell_type": "markdown",
   "id": "0edce333",
   "metadata": {},
   "source": [
    "* So here we got output as 1, means customer has churned out."
   ]
  },
  {
   "cell_type": "markdown",
   "id": "1ff4e3d8",
   "metadata": {},
   "source": [
    "## Step:10 Conclusion\n",
    "\n",
    "The conclusion of this project emphasizes significant insights obtained through thorough exploratory data analysis (EDA) and advanced machine learning models in forecasting customer churn. Here's a concise summary of the main findings and recommendations:\n",
    "\n",
    "**Exploratory Data Analysis (EDA):**\n",
    "\n",
    "`Demographic Insights:` Seniors displayed lower churn rates, contrasting with higher churn rates observed among single customers or those without dependents.                  \n",
    "`Service Satisfaction:` Higher satisfaction with streaming services correlated with lower churn rates among users.       \n",
    "`Contractual Commitments:` Shorter tenure and month-to-month contracts were linked to higher churn rates, highlighting the importance of longer-term commitments.           \n",
    "`Financial Implications:` Higher monthly charges and lower total charges were associated with increased churn, suggesting strategies to lower monthly fees and mitigate churn.            \n",
    "\n",
    "**Machine Learning Modeling:**\n",
    "\n",
    "`Model Performance:` Logistic Regression emerged as the most effective model with an accuracy of 80%, while Decision Tree Classifier and Random Forest Classifier showed respectable accuracies of 71.7% and 78.0%, respectively.       \n",
    "`Model Selection:` Despite competitive accuracies, Logistic Regression demonstrated balanced performance metrics, making it the preferred choice for churn prediction.         \n",
    "\n",
    "\n",
    "**Recommendations:**\n",
    "\n",
    "`Data-Driven Insights:` Use EDA findings to inform proactive retention strategies based on customer behavior and preferences.           \n",
    "`Predictive Modeling:` Continuously refine and monitor predictive models to adapt to evolving customer dynamics, fostering long-term relationships and business sustainability.            \n",
    "\n",
    "In conclusion, the integration of EDA insights and predictive modeling emphasizes the significance of data-driven decision-making in addressing customer churn. By leveraging these insights and implementing proactive strategies, businesses can improve customer retention efforts, drive sustainable growth, and enhance their competitive edge in dynamic market environments."
   ]
  }
 ],
 "metadata": {
  "kernelspec": {
   "display_name": "Python 3 (ipykernel)",
   "language": "python",
   "name": "python3"
  },
  "language_info": {
   "codemirror_mode": {
    "name": "ipython",
    "version": 3
   },
   "file_extension": ".py",
   "mimetype": "text/x-python",
   "name": "python",
   "nbconvert_exporter": "python",
   "pygments_lexer": "ipython3",
   "version": "3.11.5"
  }
 },
 "nbformat": 4,
 "nbformat_minor": 5
}
